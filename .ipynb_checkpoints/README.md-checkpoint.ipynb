{
 "cells": [
  {
   "cell_type": "markdown",
   "metadata": {},
   "source": [
    "## INTRODUCTION\n",
    "This repository houses my follow-up practice projects with **Dataquest**.\n",
    "\n",
    "### OBJECTIVE\n",
    "I have the following goals at mind while carrying out these projects:\n",
    "1. Practce my python skills.\n",
    "2. Learn more python syntax.\n",
    "3. Build my portfolio.\n",
    "4. Apply python to real-life issues, and \n",
    "5. Have a place to chronicle my advancement\n",
    "\n",
    "### JOIN ME\n",
    "You are free to go through this repository, use the codes, give advice, and invite me to code along with you."
   ]
  }
 ],
 "metadata": {
  "kernelspec": {
   "display_name": "Python 3",
   "language": "python",
   "name": "python3"
  },
  "language_info": {
   "codemirror_mode": {
    "name": "ipython",
    "version": 3
   },
   "file_extension": ".py",
   "mimetype": "text/x-python",
   "name": "python",
   "nbconvert_exporter": "python",
   "pygments_lexer": "ipython3",
   "version": "3.8.1"
  }
 },
 "nbformat": 4,
 "nbformat_minor": 4
}
